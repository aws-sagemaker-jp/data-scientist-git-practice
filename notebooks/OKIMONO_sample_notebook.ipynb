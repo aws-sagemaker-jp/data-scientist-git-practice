{
 "cells": [
  {
   "cell_type": "markdown",
   "id": "1268ce9d-22ee-46b9-8973-1b96a2aea2b2",
   "metadata": {},
   "source": [
    "## 練習用Notebook\n",
    "\n",
    "これは練習用のNotebookです。\n"
   ]
  },
  {
   "cell_type": "code",
   "execution_count": 1,
   "id": "52b74e5d-8478-4a66-ab31-dab4733a5087",
   "metadata": {},
   "outputs": [
    {
     "data": {
      "text/plain": [
       "14"
      ]
     },
     "execution_count": 1,
     "metadata": {},
     "output_type": "execute_result"
    }
   ],
   "source": [
    "# Pythonのコードです\n",
    "\n",
    "data = [1, 2, 3]\n",
    "squared_sum = sum([value ** 2 for value in data]) # 二乗和を計算\n",
    "\n",
    "squared_sum"
   ]
  },
  {
   "cell_type": "code",
   "execution_count": null,
   "id": "271bc56a-c835-4075-9cad-d803a99dd1cd",
   "metadata": {},
   "outputs": [],
   "source": []
  }
 ],
 "metadata": {
  "kernelspec": {
   "display_name": "default:Python",
   "language": "python",
   "name": "conda-env-default-py"
  },
  "language_info": {
   "codemirror_mode": {
    "name": "ipython",
    "version": 3
   },
   "file_extension": ".py",
   "mimetype": "text/x-python",
   "name": "python",
   "nbconvert_exporter": "python",
   "pygments_lexer": "ipython3",
   "version": "3.9.12"
  }
 },
 "nbformat": 4,
 "nbformat_minor": 5
}
